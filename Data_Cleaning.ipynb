{
 "cells": [
  {
   "cell_type": "code",
   "execution_count": 130,
   "metadata": {},
   "outputs": [],
   "source": [
    "# importamos las libreiras necesarias\n",
    "import pandas as pd\n",
    "import seaborn as sns\n",
    "import matplotlib.pyplot as plt"
   ]
  },
  {
   "cell_type": "code",
   "execution_count": 131,
   "metadata": {},
   "outputs": [],
   "source": [
    "# Leer los datos desde archivos CSV\n",
    "df1 = pd.read_csv(r'datasets\\datos_original\\HECHOS.csv')\n",
    "df2 = pd.read_csv(r'datasets\\datos_original\\VICTIMAS.csv')\n",
    "\n",
    "# Crear copias de los DataFrames originales para manipular\n",
    "df_hechos = df1.copy()\n",
    "df_victimas = df2.copy()"
   ]
  },
  {
   "cell_type": "markdown",
   "metadata": {},
   "source": [
    "#### Comenzaremos realizando las siguietes trasformaciones\n",
    "- Homologar la columna que refiere al identificador de los hechos a id_hecho en ambos dataframes.\n",
    "\n",
    "- Eliminar columnas \"AAAA\", \"MM\", \"DD\" en df_hechos por su redundancia.\t\n",
    "\n",
    "- Eliminar columnas \"AAAA\", \"MM\", \"DD\", \"XY (CABA)\", \"PARTICIPANTES\", \"FECHA_DE_FALLECIOMIENTO\" y \"HH\" en df_victimas por su redundancia.\t\n",
    "\n"
   ]
  },
  {
   "cell_type": "code",
   "execution_count": 132,
   "metadata": {},
   "outputs": [],
   "source": [
    "# Homologar las columnas a 'id_hecho' en ambos dataframes.\n",
    "df_hechos.rename(columns={'ID': 'id_hecho'}, inplace=True)\n",
    "df_victimas.rename(columns={'ID_hecho': 'id_hecho'}, inplace=True)\n",
    "\n",
    "# Eliminar las columnas redundates\n",
    "df_hechos.drop([\"AAAA\", \"MM\", \"DD\", \"XY (CABA)\", \"PARTICIPANTES\", \"HORA\"], axis=1, inplace=True)\n",
    "df_victimas.drop([\"AAAA\", \"MM\", \"DD\",'FECHA_FALLECIMIENTO'], axis=1, inplace=True)"
   ]
  },
  {
   "cell_type": "markdown",
   "metadata": {},
   "source": [
    "- La columna \"Direccion Normalizada\" de df_hechos parece ser la que mas informacion nos aporta respecto a la direccion del hecho, sin embargo existen valores faltantes que por alguna razon si se encuentran en la columna \"LUGAR_DEL_HECHO\". Por lo tanto, realizaremos este remplazo de valores faltantes y luego eliminaremos las columnas redundates: \"LUGAR_DEL_HECHO\", \"Calle\", \"Altura\" y \"Cruce\".\n",
    "\n"
   ]
  },
  {
   "cell_type": "code",
   "execution_count": 133,
   "metadata": {},
   "outputs": [
    {
     "name": "stderr",
     "output_type": "stream",
     "text": [
      "C:\\Users\\sebas\\AppData\\Local\\Temp\\ipykernel_5044\\1046297174.py:2: FutureWarning: A value is trying to be set on a copy of a DataFrame or Series through chained assignment using an inplace method.\n",
      "The behavior will change in pandas 3.0. This inplace method will never work because the intermediate object on which we are setting values always behaves as a copy.\n",
      "\n",
      "For example, when doing 'df[col].method(value, inplace=True)', try using 'df.method({col: value}, inplace=True)' or df[col] = df[col].method(value) instead, to perform the operation inplace on the original object.\n",
      "\n",
      "\n",
      "  df_hechos['Dirección Normalizada'].fillna(df_hechos['LUGAR_DEL_HECHO'], inplace=True)\n"
     ]
    }
   ],
   "source": [
    "# Rellenar los valores faltantes en 'Dirección Normalizada' con los valores de 'LUGAR_DEL_HECHO'.\n",
    "df_hechos['Dirección Normalizada'].fillna(df_hechos['LUGAR_DEL_HECHO'], inplace=True)\n",
    "\n",
    "# Eliminar las columnas redundates\n",
    "df_hechos.drop([\"LUGAR_DEL_HECHO\", \"Calle\", \"Altura\", \"Cruce\"], axis=1, inplace=True)"
   ]
  },
  {
   "cell_type": "markdown",
   "metadata": {},
   "source": [
    "## Manejo de Datos Nulos"
   ]
  },
  {
   "cell_type": "markdown",
   "metadata": {},
   "source": [
    "> Al utilizar el metodo isnull() de Pandas este nos indica que no hay valores faltantes, sin embargo el diccionario del dataset esepcifica que los valores nulos se denotan como \"SD\". Buscaremos por tanto dichos valores en el conjunto de datos.\n"
   ]
  },
  {
   "cell_type": "code",
   "execution_count": 134,
   "metadata": {},
   "outputs": [
    {
     "name": "stdout",
     "output_type": "stream",
     "text": [
      "Conteo de 'SD' en la columna N_VICTIMAS: 0\n",
      "Conteo de 'SD' en la columna FECHA: 0\n",
      "Conteo de 'SD' en la columna HH: 1\n",
      "Conteo de 'SD' en la columna TIPO_DE_CALLE: 0\n",
      "Conteo de 'SD' en la columna COMUNA: 0\n",
      "Conteo de 'SD' en la columna pos x: 0\n",
      "Conteo de 'SD' en la columna pos y: 0\n",
      "Conteo de 'SD' en la columna VICTIMA: 9\n",
      "Conteo de 'SD' en la columna ACUSADO: 23\n"
     ]
    }
   ],
   "source": [
    "# Lista de columnas en las que deseas contar valores \"SD\"\n",
    "columnas_a_verificar = ['N_VICTIMAS', 'FECHA', 'HH', 'TIPO_DE_CALLE', 'COMUNA', 'pos x', 'pos y', 'VICTIMA', 'ACUSADO']\n",
    "\n",
    "# Conteo de valores \"SD\" para cada columna\n",
    "for columna in columnas_a_verificar:\n",
    "    conteo_sd = (df_hechos[columna] == 'SD').sum()\n",
    "    print(f\"Conteo de 'SD' en la columna {columna}: {conteo_sd}\")\n"
   ]
  },
  {
   "cell_type": "code",
   "execution_count": 135,
   "metadata": {},
   "outputs": [
    {
     "name": "stdout",
     "output_type": "stream",
     "text": [
      "Conteo de 'SD' en la columna FECHA: 0\n",
      "Conteo de 'SD' en la columna ROL: 11\n",
      "Conteo de 'SD' en la columna VICTIMA: 9\n",
      "Conteo de 'SD' en la columna SEXO: 6\n",
      "Conteo de 'SD' en la columna EDAD: 53\n"
     ]
    }
   ],
   "source": [
    "# Lista de columnas en las que deseas contar valores \"SD\" para df_victimas\n",
    "columnas_a_verificar_victimas = [ 'FECHA', 'ROL', 'VICTIMA', 'SEXO', 'EDAD']\n",
    "\n",
    "# Conteo de valores \"SD\" para cada columna en df_victimas\n",
    "for columna in columnas_a_verificar_victimas:\n",
    "    conteo_sd_victimas = (df_victimas[columna] == 'SD').sum()\n",
    "    print(f\"Conteo de 'SD' en la columna {columna}: {conteo_sd_victimas}\")\n"
   ]
  },
  {
   "cell_type": "markdown",
   "metadata": {},
   "source": [
    ">  Ahora debemos establecer un criterio para imputar o tratar de alguna forma estos datos faltantes. Estableceremos dichos criterios uno por uno, de forma secuencial, segun corresponda.\n"
   ]
  },
  {
   "cell_type": "markdown",
   "metadata": {},
   "source": [
    "### Imputacion de valores faltantes en df_hechos\n"
   ]
  },
  {
   "cell_type": "markdown",
   "metadata": {},
   "source": [
    "> En el caso de la hora solo tenemos un valor faltante. Utilizaremos la moda para remplazarlo"
   ]
  },
  {
   "cell_type": "code",
   "execution_count": 136,
   "metadata": {},
   "outputs": [],
   "source": [
    "# Reemplazar la columna 'HH' por la columna 'HORA'\n",
    "df_hechos['HORA'] = df_hechos['HH']\n",
    "\n",
    "# Eliminar la columna 'HH' si ya no es necesaria\n",
    "df_hechos.drop(columns=['HH'], inplace=True)\n",
    "\n",
    "df_hechos['HORA'].value_counts()\n",
    "df_hechos['HORA'] = df_hechos['HORA'].replace('SD', '21')"
   ]
  },
  {
   "cell_type": "markdown",
   "metadata": {},
   "source": [
    "> Dada la poca cantidad de faltantes en este campo y la alta representatividad de la moda procederemos a imputar los valroes faltantes por la moda."
   ]
  },
  {
   "cell_type": "code",
   "execution_count": 137,
   "metadata": {},
   "outputs": [
    {
     "data": {
      "text/plain": [
       "VICTIMA\n",
       "MOTO           295\n",
       "PEATON         264\n",
       "AUTO            83\n",
       "BICICLETA       29\n",
       "SD               9\n",
       "CARGAS           7\n",
       "PASAJEROS        5\n",
       "MOVIL            2\n",
       "OBJETO FIJO      1\n",
       "PEATON_MOTO      1\n",
       "Name: count, dtype: int64"
      ]
     },
     "execution_count": 137,
     "metadata": {},
     "output_type": "execute_result"
    }
   ],
   "source": [
    "df_hechos['VICTIMA'].value_counts()"
   ]
  },
  {
   "cell_type": "code",
   "execution_count": 138,
   "metadata": {},
   "outputs": [],
   "source": [
    "df_hechos['VICTIMA'] = df_hechos['VICTIMA'].replace('SD', 'MOTO')"
   ]
  },
  {
   "cell_type": "markdown",
   "metadata": {},
   "source": [
    "> Por mas que el campo \"ACUSADO\" tenga una moda representativa, imputar los valores faltaltes por la misma podria sesgar la distribucion de los datos por la gran cantidad de valores faltantes."
   ]
  },
  {
   "cell_type": "code",
   "execution_count": 139,
   "metadata": {},
   "outputs": [
    {
     "data": {
      "text/plain": [
       "ACUSADO\n",
       "AUTO           204\n",
       "PASAJEROS      173\n",
       "CARGAS         146\n",
       "OBJETO FIJO     62\n",
       "MOTO            57\n",
       "SD              23\n",
       "MULTIPLE        17\n",
       "BICICLETA        7\n",
       "OTRO             6\n",
       "TREN             1\n",
       "Name: count, dtype: int64"
      ]
     },
     "execution_count": 139,
     "metadata": {},
     "output_type": "execute_result"
    }
   ],
   "source": [
    "df_hechos['ACUSADO'].value_counts() "
   ]
  },
  {
   "cell_type": "markdown",
   "metadata": {},
   "source": [
    "> En este caso, lo que haremos sera distriibuir proporcionalmente los valores faltantes segun la reprentacion que tenga cada nivel de la variable en la distribucion."
   ]
  },
  {
   "cell_type": "code",
   "execution_count": 140,
   "metadata": {},
   "outputs": [],
   "source": [
    "# Calcular la proporción de cada categoría, excluyendo 'SD'(frecuancias relativas)\n",
    "proporciones = df_hechos['ACUSADO'].value_counts(normalize=True)\n",
    "\n",
    "# Número de 'SD' a imputar\n",
    "cantidad_sd_a_imputar = 23\n",
    "\n",
    "# Calcula la cantidad a imputar para cada categoría\n",
    "cantidad_a_imputar_por_categoria = (proporciones * cantidad_sd_a_imputar).round().astype(int)\n",
    "\n",
    "\n",
    "# Ahora asignamos estas cantidades a los datos\n",
    "for categoria, cantidad in cantidad_a_imputar_por_categoria.items():\n",
    "    if categoria != 'SD':\n",
    "        # Imputa los valores proporcionalmente a cada categoría\n",
    "        df_hechos.loc[df_hechos['ACUSADO'] == 'SD', 'ACUSADO'] = categoria\n",
    "        cantidad -= 1\n",
    "\n"
   ]
  },
  {
   "cell_type": "code",
   "execution_count": 141,
   "metadata": {},
   "outputs": [],
   "source": [
    "# Vamos a pasar las coordenadas a formato decimal\n",
    "df_hechos = df_hechos.rename(columns={'pos x': 'longitud', 'pos y': 'latitud'})\n"
   ]
  },
  {
   "cell_type": "code",
   "execution_count": 142,
   "metadata": {},
   "outputs": [],
   "source": [
    "# Convertir las columnas a tipo decimal, reemplazando los valores no numéricos con NaN\n",
    "df_hechos['longitud'] = pd.to_numeric(df_hechos['longitud'], errors='coerce')\n",
    "df_hechos['latitud'] = pd.to_numeric(df_hechos['latitud'], errors='coerce')\n",
    "\n"
   ]
  },
  {
   "cell_type": "code",
   "execution_count": 143,
   "metadata": {},
   "outputs": [],
   "source": [
    "# Convertir la columna FECHA al formato datetime legible para Power BI\n",
    "df_hechos['FECHA'] = pd.to_datetime(df_hechos['FECHA'], format='%m/%d/%Y')"
   ]
  },
  {
   "cell_type": "markdown",
   "metadata": {},
   "source": [
    "> Volvemos a obervar los SD para ver si todo fue imputado corretamente."
   ]
  },
  {
   "cell_type": "code",
   "execution_count": 144,
   "metadata": {},
   "outputs": [
    {
     "name": "stdout",
     "output_type": "stream",
     "text": [
      "Conteo de 'SD' en la columna N_VICTIMAS: 0\n",
      "Conteo de 'SD' en la columna FECHA: 0\n",
      "Conteo de 'SD' en la columna HORA: 0\n",
      "Conteo de 'SD' en la columna TIPO_DE_CALLE: 0\n",
      "Conteo de 'SD' en la columna COMUNA: 0\n",
      "Conteo de 'SD' en la columna latitud: 0\n",
      "Conteo de 'SD' en la columna longitud: 0\n",
      "Conteo de 'SD' en la columna VICTIMA: 0\n",
      "Conteo de 'SD' en la columna ACUSADO: 0\n"
     ]
    }
   ],
   "source": [
    "# Lista de columnas en las que deseas contar valores \"SD\"\n",
    "columnas_a_verificar = ['N_VICTIMAS', 'FECHA', 'HORA', 'TIPO_DE_CALLE', 'COMUNA', 'latitud', 'longitud', 'VICTIMA', 'ACUSADO']\n",
    "\n",
    "# Conteo de valores \"SD\" para cada columna\n",
    "for columna in columnas_a_verificar:\n",
    "    conteo_sd = (df_hechos[columna] == 'SD').sum()\n",
    "    print(f\"Conteo de 'SD' en la columna {columna}: {conteo_sd}\")"
   ]
  },
  {
   "cell_type": "markdown",
   "metadata": {},
   "source": [
    "### Imputacion de valores faltantes en df_victimas"
   ]
  },
  {
   "cell_type": "markdown",
   "metadata": {},
   "source": [
    "> Podriamos imputar los valores faltantes de las categorias ROL, VICTIMA y SEXO utilizando la moda. Para considerarla una estrategia valida de imputacion deberia existir una moda significatiamente representativa y deberia existir una baja proporcion de valores faltantes sobre el total."
   ]
  },
  {
   "cell_type": "markdown",
   "metadata": {},
   "source": [
    "> Si consideramos, en la variable ROL, la proporcion de la moda (CONDUCTOR) en este caso es del 46% aproximadamente (sin computar los SD sobre el total). La elección de \"CONDUCTOR\" como valor para imputar datos faltantes parece justificada en este caso, considerando la representatividad de esta categoría."
   ]
  },
  {
   "cell_type": "code",
   "execution_count": 145,
   "metadata": {},
   "outputs": [
    {
     "data": {
      "text/plain": [
       "ROL\n",
       "CONDUCTOR               330\n",
       "PEATON                  267\n",
       "PASAJERO_ACOMPAÑANTE     80\n",
       "CICLISTA                 29\n",
       "SD                       11\n",
       "Name: count, dtype: int64"
      ]
     },
     "execution_count": 145,
     "metadata": {},
     "output_type": "execute_result"
    }
   ],
   "source": [
    "df_victimas['ROL'].value_counts()"
   ]
  },
  {
   "cell_type": "code",
   "execution_count": 146,
   "metadata": {},
   "outputs": [],
   "source": [
    "\n",
    "df_victimas['ROL'] = df_victimas['ROL'].replace('SD', 'CONDUCTOR')"
   ]
  },
  {
   "cell_type": "markdown",
   "metadata": {},
   "source": [
    "> Nuevamente una representatividad del 42% para la moda por parte de MOTO parace ser suficiente para justificar la imputacion."
   ]
  },
  {
   "cell_type": "code",
   "execution_count": 147,
   "metadata": {},
   "outputs": [
    {
     "data": {
      "text/plain": [
       "VICTIMA\n",
       "MOTO         303\n",
       "PEATON       267\n",
       "AUTO          94\n",
       "BICICLETA     29\n",
       "SD             9\n",
       "CARGAS         7\n",
       "PASAJEROS      5\n",
       "MOVIL          3\n",
       "Name: count, dtype: int64"
      ]
     },
     "execution_count": 147,
     "metadata": {},
     "output_type": "execute_result"
    }
   ],
   "source": [
    "df_victimas['VICTIMA'].value_counts()"
   ]
  },
  {
   "cell_type": "code",
   "execution_count": 148,
   "metadata": {},
   "outputs": [],
   "source": [
    "df_victimas['VICTIMA'] = df_victimas['VICTIMA'].replace('SD', 'MOTO')"
   ]
  },
  {
   "cell_type": "markdown",
   "metadata": {},
   "source": [
    "> Al actuar con una variable categorica que unicamente tiene dos niveles deberia uno ser mas cuidadoso con la imputacion a fin de no introducir sesgos importantes, pero en este caso, considernado la enorme diferencia de representatividad de las variables (con un ratio de 3 hombres por cada mujer) y la pequeña cantidad de datos faltantes, imputar los mismos por la moda no deberia representar mayor complicacion."
   ]
  },
  {
   "cell_type": "code",
   "execution_count": 149,
   "metadata": {},
   "outputs": [
    {
     "data": {
      "text/plain": [
       "SEXO\n",
       "MASCULINO    545\n",
       "FEMENINO     166\n",
       "SD             6\n",
       "Name: count, dtype: int64"
      ]
     },
     "execution_count": 149,
     "metadata": {},
     "output_type": "execute_result"
    }
   ],
   "source": [
    "df_victimas['SEXO'].value_counts()"
   ]
  },
  {
   "cell_type": "code",
   "execution_count": 150,
   "metadata": {},
   "outputs": [],
   "source": [
    "df_victimas['SEXO'] = df_victimas['SEXO'].replace('SD', 'MASCULINO')"
   ]
  },
  {
   "cell_type": "markdown",
   "metadata": {},
   "source": [
    "> Observaremos la distribucion de las edades para asi actuar en consecuencia. "
   ]
  },
  {
   "cell_type": "code",
   "execution_count": 151,
   "metadata": {},
   "outputs": [
    {
     "data": {
      "image/png": "[encoded data removed]",
      "text/plain": [
       "<Figure size 2000x1000 with 1 Axes>"
      ]
     },
     "metadata": {},
     "output_type": "display_data"
    }
   ],
   "source": [
    "# Filtrar los valores 'SD' antes de crear el histograma\n",
    "edades_sin_sd = df_victimas[df_victimas['EDAD'] != 'SD']['EDAD']\n",
    "\n",
    "# Convertir las edades a tipo int y ordenarlas de menor a mayor\n",
    "edades_sin_sd = edades_sin_sd.astype(int).sort_values()\n",
    "\n",
    "# Visualización de la distribución con un histograma\n",
    "plt.figure(figsize=(20, 10))\n",
    "sns.histplot(edades_sin_sd, bins=10, kde=True, color='skyblue')\n",
    "plt.title('Distribución de Edades (excluyendo \"SD\")')\n",
    "plt.xlabel('Edad')\n",
    "plt.ylabel('Frecuencia')\n",
    "plt.show()"
   ]
  },
  {
   "cell_type": "markdown",
   "metadata": {},
   "source": [
    "> Vemos que no estamos ante una distribucion normal, por tanto, para la variable \"EDAD\" no imputaremos los faltantes utilizando la media, tratando de evitar el efecto de regresion a la media en la distribucion de las edades. \n",
    "\n"
   ]
  },
  {
   "cell_type": "code",
   "execution_count": 152,
   "metadata": {},
   "outputs": [],
   "source": [
    "# Calcular la proporción de cada edad, excluyendo 'SD'(frecuencias relativas)\n",
    "proporciones_edad = df_victimas['EDAD'].value_counts(normalize=True)\n",
    "\n",
    "# Número de 'SD' a imputar\n",
    "cantidad_sd_a_imputar_edad = 53\n",
    "\n",
    "# Calcular la cantidad a imputar para cada edad\n",
    "cantidad_a_imputar_por_edad = (proporciones_edad * cantidad_sd_a_imputar_edad).round().astype(int)\n",
    "\n",
    "# Asignamos estas cantidades a los datos\n",
    "for edad, cantidad in cantidad_a_imputar_por_edad.items():\n",
    "    if edad != 'SD':\n",
    "        # Imputa los valores proporcionalmente a cada edad\n",
    "        df_victimas.loc[df_victimas['EDAD'] == 'SD', 'EDAD'] = edad\n",
    "        cantidad -= 1"
   ]
  },
  {
   "cell_type": "code",
   "execution_count": 153,
   "metadata": {},
   "outputs": [
    {
     "data": {
      "text/html": [
       "<div>\n",
       "<style scoped>\n",
       "    .dataframe tbody tr th:only-of-type {\n",
       "        vertical-align: middle;\n",
       "    }\n",
       "\n",
       "    .dataframe tbody tr th {\n",
       "        vertical-align: top;\n",
       "    }\n",
       "\n",
       "    .dataframe thead th {\n",
       "        text-align: right;\n",
       "    }\n",
       "</style>\n",
       "<table border=\"1\" class=\"dataframe\">\n",
       "  <thead>\n",
       "    <tr style=\"text-align: right;\">\n",
       "      <th></th>\n",
       "      <th>id_hecho</th>\n",
       "      <th>FECHA</th>\n",
       "      <th>ROL</th>\n",
       "      <th>VICTIMA</th>\n",
       "      <th>SEXO</th>\n",
       "      <th>EDAD</th>\n",
       "      <th>DIA_DE_LA_SEMANA</th>\n",
       "    </tr>\n",
       "  </thead>\n",
       "  <tbody>\n",
       "    <tr>\n",
       "      <th>0</th>\n",
       "      <td>2016-0001</td>\n",
       "      <td>2016-01-01</td>\n",
       "      <td>CONDUCTOR</td>\n",
       "      <td>MOTO</td>\n",
       "      <td>MASCULINO</td>\n",
       "      <td>19</td>\n",
       "      <td>Friday</td>\n",
       "    </tr>\n",
       "    <tr>\n",
       "      <th>1</th>\n",
       "      <td>2016-0002</td>\n",
       "      <td>2016-01-02</td>\n",
       "      <td>CONDUCTOR</td>\n",
       "      <td>AUTO</td>\n",
       "      <td>MASCULINO</td>\n",
       "      <td>70</td>\n",
       "      <td>Saturday</td>\n",
       "    </tr>\n",
       "    <tr>\n",
       "      <th>2</th>\n",
       "      <td>2016-0003</td>\n",
       "      <td>2016-01-03</td>\n",
       "      <td>CONDUCTOR</td>\n",
       "      <td>MOTO</td>\n",
       "      <td>MASCULINO</td>\n",
       "      <td>30</td>\n",
       "      <td>Sunday</td>\n",
       "    </tr>\n",
       "    <tr>\n",
       "      <th>3</th>\n",
       "      <td>2016-0004</td>\n",
       "      <td>2016-01-10</td>\n",
       "      <td>CONDUCTOR</td>\n",
       "      <td>MOTO</td>\n",
       "      <td>MASCULINO</td>\n",
       "      <td>18</td>\n",
       "      <td>Sunday</td>\n",
       "    </tr>\n",
       "    <tr>\n",
       "      <th>4</th>\n",
       "      <td>2016-0005</td>\n",
       "      <td>2016-01-21</td>\n",
       "      <td>CONDUCTOR</td>\n",
       "      <td>MOTO</td>\n",
       "      <td>MASCULINO</td>\n",
       "      <td>29</td>\n",
       "      <td>Thursday</td>\n",
       "    </tr>\n",
       "    <tr>\n",
       "      <th>...</th>\n",
       "      <td>...</td>\n",
       "      <td>...</td>\n",
       "      <td>...</td>\n",
       "      <td>...</td>\n",
       "      <td>...</td>\n",
       "      <td>...</td>\n",
       "      <td>...</td>\n",
       "    </tr>\n",
       "    <tr>\n",
       "      <th>712</th>\n",
       "      <td>2021-0092</td>\n",
       "      <td>2021-12-12</td>\n",
       "      <td>PEATON</td>\n",
       "      <td>PEATON</td>\n",
       "      <td>FEMENINO</td>\n",
       "      <td>50</td>\n",
       "      <td>Sunday</td>\n",
       "    </tr>\n",
       "    <tr>\n",
       "      <th>713</th>\n",
       "      <td>2021-0093</td>\n",
       "      <td>2021-12-13</td>\n",
       "      <td>PASAJERO_ACOMPAÑANTE</td>\n",
       "      <td>MOTO</td>\n",
       "      <td>FEMENINO</td>\n",
       "      <td>18</td>\n",
       "      <td>Monday</td>\n",
       "    </tr>\n",
       "    <tr>\n",
       "      <th>714</th>\n",
       "      <td>2021-0094</td>\n",
       "      <td>2021-12-20</td>\n",
       "      <td>PASAJERO_ACOMPAÑANTE</td>\n",
       "      <td>MOTO</td>\n",
       "      <td>FEMENINO</td>\n",
       "      <td>43</td>\n",
       "      <td>Monday</td>\n",
       "    </tr>\n",
       "    <tr>\n",
       "      <th>715</th>\n",
       "      <td>2021-0095</td>\n",
       "      <td>2021-12-30</td>\n",
       "      <td>CONDUCTOR</td>\n",
       "      <td>MOTO</td>\n",
       "      <td>MASCULINO</td>\n",
       "      <td>27</td>\n",
       "      <td>Thursday</td>\n",
       "    </tr>\n",
       "    <tr>\n",
       "      <th>716</th>\n",
       "      <td>2021-0096</td>\n",
       "      <td>2021-12-15</td>\n",
       "      <td>CONDUCTOR</td>\n",
       "      <td>AUTO</td>\n",
       "      <td>MASCULINO</td>\n",
       "      <td>60</td>\n",
       "      <td>Wednesday</td>\n",
       "    </tr>\n",
       "  </tbody>\n",
       "</table>\n",
       "<p>717 rows × 7 columns</p>\n",
       "</div>"
      ],
      "text/plain": [
       "      id_hecho      FECHA                   ROL VICTIMA       SEXO EDAD  \\\n",
       "0    2016-0001 2016-01-01             CONDUCTOR    MOTO  MASCULINO   19   \n",
       "1    2016-0002 2016-01-02             CONDUCTOR    AUTO  MASCULINO   70   \n",
       "2    2016-0003 2016-01-03             CONDUCTOR    MOTO  MASCULINO   30   \n",
       "3    2016-0004 2016-01-10             CONDUCTOR    MOTO  MASCULINO   18   \n",
       "4    2016-0005 2016-01-21             CONDUCTOR    MOTO  MASCULINO   29   \n",
       "..         ...        ...                   ...     ...        ...  ...   \n",
       "712  2021-0092 2021-12-12                PEATON  PEATON   FEMENINO   50   \n",
       "713  2021-0093 2021-12-13  PASAJERO_ACOMPAÑANTE    MOTO   FEMENINO   18   \n",
       "714  2021-0094 2021-12-20  PASAJERO_ACOMPAÑANTE    MOTO   FEMENINO   43   \n",
       "715  2021-0095 2021-12-30             CONDUCTOR    MOTO  MASCULINO   27   \n",
       "716  2021-0096 2021-12-15             CONDUCTOR    AUTO  MASCULINO   60   \n",
       "\n",
       "    DIA_DE_LA_SEMANA  \n",
       "0             Friday  \n",
       "1           Saturday  \n",
       "2             Sunday  \n",
       "3             Sunday  \n",
       "4           Thursday  \n",
       "..               ...  \n",
       "712           Sunday  \n",
       "713           Monday  \n",
       "714           Monday  \n",
       "715         Thursday  \n",
       "716        Wednesday  \n",
       "\n",
       "[717 rows x 7 columns]"
      ]
     },
     "execution_count": 153,
     "metadata": {},
     "output_type": "execute_result"
    }
   ],
   "source": [
    "# Convertir la columna \"FECHA\" al formato de fecha apropiado\n",
    "df_victimas['FECHA'] = pd.to_datetime(df_victimas['FECHA'])\n",
    "\n",
    "# Obtener el nombre del día de la semana y agregarlo como una nueva columna\n",
    "df_victimas['DIA_DE_LA_SEMANA'] = df_victimas['FECHA'].dt.day_name()\n",
    "\n",
    "# Mostrar el DataFrame resultante\n",
    "df_victimas # Observamos que el resultado esta en ingles\n"
   ]
  },
  {
   "cell_type": "code",
   "execution_count": 154,
   "metadata": {},
   "outputs": [],
   "source": [
    "# Diccionario para mapear los nombres de los días de la semana en inglés a español\n",
    "dias_dict = {\n",
    "    'Monday': 'Lunes',\n",
    "    'Tuesday': 'Martes',\n",
    "    'Wednesday': 'Miércoles',\n",
    "    'Thursday': 'Jueves',\n",
    "    'Friday': 'Viernes',\n",
    "    'Saturday': 'Sábado',\n",
    "    'Sunday': 'Domingo'\n",
    "}\n",
    "\n",
    "# Mapear los nombres de los días de la semana en inglés a español\n",
    "df_victimas['DIA_DE_LA_SEMANA'] = df_victimas['DIA_DE_LA_SEMANA'].map(dias_dict)"
   ]
  },
  {
   "cell_type": "code",
   "execution_count": 155,
   "metadata": {},
   "outputs": [
    {
     "data": {
      "text/html": [
       "<div>\n",
       "<style scoped>\n",
       "    .dataframe tbody tr th:only-of-type {\n",
       "        vertical-align: middle;\n",
       "    }\n",
       "\n",
       "    .dataframe tbody tr th {\n",
       "        vertical-align: top;\n",
       "    }\n",
       "\n",
       "    .dataframe thead th {\n",
       "        text-align: right;\n",
       "    }\n",
       "</style>\n",
       "<table border=\"1\" class=\"dataframe\">\n",
       "  <thead>\n",
       "    <tr style=\"text-align: right;\">\n",
       "      <th></th>\n",
       "      <th>id_hecho</th>\n",
       "      <th>FECHA</th>\n",
       "      <th>ROL</th>\n",
       "      <th>VICTIMA</th>\n",
       "      <th>SEXO</th>\n",
       "      <th>EDAD</th>\n",
       "      <th>DIA_DE_LA_SEMANA</th>\n",
       "    </tr>\n",
       "  </thead>\n",
       "  <tbody>\n",
       "    <tr>\n",
       "      <th>0</th>\n",
       "      <td>2016-0001</td>\n",
       "      <td>2016-01-01</td>\n",
       "      <td>CONDUCTOR</td>\n",
       "      <td>MOTO</td>\n",
       "      <td>MASCULINO</td>\n",
       "      <td>19</td>\n",
       "      <td>Viernes</td>\n",
       "    </tr>\n",
       "    <tr>\n",
       "      <th>1</th>\n",
       "      <td>2016-0002</td>\n",
       "      <td>2016-01-02</td>\n",
       "      <td>CONDUCTOR</td>\n",
       "      <td>AUTO</td>\n",
       "      <td>MASCULINO</td>\n",
       "      <td>70</td>\n",
       "      <td>Sábado</td>\n",
       "    </tr>\n",
       "    <tr>\n",
       "      <th>2</th>\n",
       "      <td>2016-0003</td>\n",
       "      <td>2016-01-03</td>\n",
       "      <td>CONDUCTOR</td>\n",
       "      <td>MOTO</td>\n",
       "      <td>MASCULINO</td>\n",
       "      <td>30</td>\n",
       "      <td>Domingo</td>\n",
       "    </tr>\n",
       "    <tr>\n",
       "      <th>3</th>\n",
       "      <td>2016-0004</td>\n",
       "      <td>2016-01-10</td>\n",
       "      <td>CONDUCTOR</td>\n",
       "      <td>MOTO</td>\n",
       "      <td>MASCULINO</td>\n",
       "      <td>18</td>\n",
       "      <td>Domingo</td>\n",
       "    </tr>\n",
       "    <tr>\n",
       "      <th>4</th>\n",
       "      <td>2016-0005</td>\n",
       "      <td>2016-01-21</td>\n",
       "      <td>CONDUCTOR</td>\n",
       "      <td>MOTO</td>\n",
       "      <td>MASCULINO</td>\n",
       "      <td>29</td>\n",
       "      <td>Jueves</td>\n",
       "    </tr>\n",
       "    <tr>\n",
       "      <th>...</th>\n",
       "      <td>...</td>\n",
       "      <td>...</td>\n",
       "      <td>...</td>\n",
       "      <td>...</td>\n",
       "      <td>...</td>\n",
       "      <td>...</td>\n",
       "      <td>...</td>\n",
       "    </tr>\n",
       "    <tr>\n",
       "      <th>712</th>\n",
       "      <td>2021-0092</td>\n",
       "      <td>2021-12-12</td>\n",
       "      <td>PEATON</td>\n",
       "      <td>PEATON</td>\n",
       "      <td>FEMENINO</td>\n",
       "      <td>50</td>\n",
       "      <td>Domingo</td>\n",
       "    </tr>\n",
       "    <tr>\n",
       "      <th>713</th>\n",
       "      <td>2021-0093</td>\n",
       "      <td>2021-12-13</td>\n",
       "      <td>PASAJERO_ACOMPAÑANTE</td>\n",
       "      <td>MOTO</td>\n",
       "      <td>FEMENINO</td>\n",
       "      <td>18</td>\n",
       "      <td>Lunes</td>\n",
       "    </tr>\n",
       "    <tr>\n",
       "      <th>714</th>\n",
       "      <td>2021-0094</td>\n",
       "      <td>2021-12-20</td>\n",
       "      <td>PASAJERO_ACOMPAÑANTE</td>\n",
       "      <td>MOTO</td>\n",
       "      <td>FEMENINO</td>\n",
       "      <td>43</td>\n",
       "      <td>Lunes</td>\n",
       "    </tr>\n",
       "    <tr>\n",
       "      <th>715</th>\n",
       "      <td>2021-0095</td>\n",
       "      <td>2021-12-30</td>\n",
       "      <td>CONDUCTOR</td>\n",
       "      <td>MOTO</td>\n",
       "      <td>MASCULINO</td>\n",
       "      <td>27</td>\n",
       "      <td>Jueves</td>\n",
       "    </tr>\n",
       "    <tr>\n",
       "      <th>716</th>\n",
       "      <td>2021-0096</td>\n",
       "      <td>2021-12-15</td>\n",
       "      <td>CONDUCTOR</td>\n",
       "      <td>AUTO</td>\n",
       "      <td>MASCULINO</td>\n",
       "      <td>60</td>\n",
       "      <td>Miércoles</td>\n",
       "    </tr>\n",
       "  </tbody>\n",
       "</table>\n",
       "<p>717 rows × 7 columns</p>\n",
       "</div>"
      ],
      "text/plain": [
       "      id_hecho      FECHA                   ROL VICTIMA       SEXO EDAD  \\\n",
       "0    2016-0001 2016-01-01             CONDUCTOR    MOTO  MASCULINO   19   \n",
       "1    2016-0002 2016-01-02             CONDUCTOR    AUTO  MASCULINO   70   \n",
       "2    2016-0003 2016-01-03             CONDUCTOR    MOTO  MASCULINO   30   \n",
       "3    2016-0004 2016-01-10             CONDUCTOR    MOTO  MASCULINO   18   \n",
       "4    2016-0005 2016-01-21             CONDUCTOR    MOTO  MASCULINO   29   \n",
       "..         ...        ...                   ...     ...        ...  ...   \n",
       "712  2021-0092 2021-12-12                PEATON  PEATON   FEMENINO   50   \n",
       "713  2021-0093 2021-12-13  PASAJERO_ACOMPAÑANTE    MOTO   FEMENINO   18   \n",
       "714  2021-0094 2021-12-20  PASAJERO_ACOMPAÑANTE    MOTO   FEMENINO   43   \n",
       "715  2021-0095 2021-12-30             CONDUCTOR    MOTO  MASCULINO   27   \n",
       "716  2021-0096 2021-12-15             CONDUCTOR    AUTO  MASCULINO   60   \n",
       "\n",
       "    DIA_DE_LA_SEMANA  \n",
       "0            Viernes  \n",
       "1             Sábado  \n",
       "2            Domingo  \n",
       "3            Domingo  \n",
       "4             Jueves  \n",
       "..               ...  \n",
       "712          Domingo  \n",
       "713            Lunes  \n",
       "714            Lunes  \n",
       "715           Jueves  \n",
       "716        Miércoles  \n",
       "\n",
       "[717 rows x 7 columns]"
      ]
     },
     "execution_count": 155,
     "metadata": {},
     "output_type": "execute_result"
    }
   ],
   "source": [
    "df_victimas"
   ]
  },
  {
   "cell_type": "code",
   "execution_count": 156,
   "metadata": {},
   "outputs": [
    {
     "name": "stdout",
     "output_type": "stream",
     "text": [
      "Conteo de 'SD' en la columna FECHA: 0\n",
      "Conteo de 'SD' en la columna ROL: 0\n",
      "Conteo de 'SD' en la columna VICTIMA: 0\n",
      "Conteo de 'SD' en la columna SEXO: 0\n",
      "Conteo de 'SD' en la columna EDAD: 0\n",
      "Conteo de 'SD' en la columna DIA_DE_LA_SEMANA: 0\n"
     ]
    }
   ],
   "source": [
    "# Lista de columnas en las que deseas contar valores \"SD\" para df_victimas\n",
    "columnas_a_verificar_victimas = [ 'FECHA', 'ROL', 'VICTIMA', 'SEXO', 'EDAD','DIA_DE_LA_SEMANA']\n",
    "\n",
    "# Conteo de valores \"SD\" para cada columna en df_victimas\n",
    "for columna in columnas_a_verificar_victimas:\n",
    "    conteo_sd_victimas = (df_victimas[columna] == 'SD').sum()\n",
    "    print(f\"Conteo de 'SD' en la columna {columna}: {conteo_sd_victimas}\")"
   ]
  },
  {
   "cell_type": "code",
   "execution_count": 157,
   "metadata": {},
   "outputs": [],
   "source": [
    "# Dropear la columna FECHA de df_victimas \n",
    "df_victimas.drop(columns=['FECHA'], inplace=True)\n",
    " # Dropear la columna Dirección Normalizada de df_hechos\n",
    "df_hechos.drop(columns=['Dirección Normalizada'], inplace=True)   \n",
    " "
   ]
  },
  {
   "cell_type": "markdown",
   "metadata": {},
   "source": [
    "> Dado que imputamos todos los valores del conjunto de datos, la diferencia entre el conjunto de datos original y el limpio se encuentra unucamente en la cantidad de columnas, mas las filas se mantienen identicas."
   ]
  },
  {
   "cell_type": "code",
   "execution_count": 158,
   "metadata": {},
   "outputs": [
    {
     "name": "stdout",
     "output_type": "stream",
     "text": [
      "ORIGINAL VICTIMAS: (717, 10)\n",
      "LIMPIO VICTIMAS: (717, 6)\n",
      "\n",
      "\n",
      "ORIGINAL HECHOS: (696, 21)\n",
      "LIMPIO HECHOS: (696, 10)\n"
     ]
    }
   ],
   "source": [
    "print(f\"ORIGINAL VICTIMAS: {df2.shape}\")\n",
    "print(f\"LIMPIO VICTIMAS: {df_victimas.shape}\\n\")\n",
    "\n",
    "print(F\"\\nORIGINAL HECHOS: {df1.shape}\")\n",
    "print(F\"LIMPIO HECHOS: {df_hechos.shape}\")\n"
   ]
  },
  {
   "cell_type": "markdown",
   "metadata": {},
   "source": [
    "> Ahora que los datos estan limpios podemos exportarlos y comenzar a trabajar con ellos para obtener algunos insigths"
   ]
  },
  {
   "cell_type": "code",
   "execution_count": 159,
   "metadata": {},
   "outputs": [],
   "source": [
    "\n",
    "\n",
    "# Exporta df_hechos a un archivo CSV en la ruta especificada\n",
    "df_hechos.to_csv('hechos.csv', index=False)\n",
    "\n",
    "# Exporta df_victimas a un archivo CSV en la ruta especificada\n",
    "df_victimas.to_csv('victimas.csv', index=False)\n"
   ]
  }
 ],
 "metadata": {
  "kernelspec": {
   "display_name": "Python 3",
   "language": "python",
   "name": "python3"
  },
  "language_info": {
   "codemirror_mode": {
    "name": "ipython",
    "version": 3
   },
   "file_extension": ".py",
   "mimetype": "text/x-python",
   "name": "python",
   "nbconvert_exporter": "python",
   "pygments_lexer": "ipython3",
   "version": "3.9.0"
  }
 },
 "nbformat": 4,
 "nbformat_minor": 2
}
